{
  "nbformat": 4,
  "nbformat_minor": 0,
  "metadata": {
    "colab": {
      "provenance": []
    },
    "kernelspec": {
      "name": "python3",
      "display_name": "Python 3"
    },
    "language_info": {
      "name": "python"
    }
  },
  "cells": [
    {
      "cell_type": "code",
      "execution_count": 1,
      "metadata": {
        "id": "JHVL_R6FQCj_"
      },
      "outputs": [],
      "source": [
        "import numpy as np"
      ]
    },
    {
      "cell_type": "markdown",
      "source": [
        "## Lendo os arquivos"
      ],
      "metadata": {
        "id": "OrxeKRPZXCuO"
      }
    },
    {
      "cell_type": "code",
      "source": [
        "data_teste = np.loadtxt(\"teste.txt\")\n",
        "data_treino = np.loadtxt(\"treino.txt\")"
      ],
      "metadata": {
        "id": "vcSyCEjnPm4P"
      },
      "execution_count": 14,
      "outputs": []
    },
    {
      "cell_type": "markdown",
      "source": [
        "# Pegando dados de treino e normalizando utilizando Z-Score"
      ],
      "metadata": {
        "id": "Y2RmyD90W3Af"
      }
    },
    {
      "cell_type": "code",
      "source": [
        "X_teste = data_teste[:, :-1]  # Recursos teste\n",
        "y_teste = data_teste[:, -1]   # Rótulos teste\n",
        "\n",
        "# Calcule a média e o desvio padrão das características no conjunto de teste\n",
        "mean_teste = X_teste.mean(axis=0)\n",
        "std_teste = X_teste.std(axis=0)\n",
        "\n",
        "# Encontre as características com variância zero no conjunto de teste\n",
        "zero_variance_features = np.where(std_teste == 0)[0]\n",
        "\n",
        "# Remova essas características dos conjuntos de teste\n",
        "X_teste = np.delete(X_teste, zero_variance_features, axis=1)\n",
        "\n",
        "# Calcule a média e o desvio padrão novamente após remover as características com variância zero\n",
        "mean_teste = X_teste.mean(axis=0)\n",
        "std_teste = X_teste.std(axis=0)\n",
        "\n",
        "# Normalize o conjunto de teste usando o Z-score\n",
        "X_test_normalized = (X_teste - mean_teste) / std_teste\n"
      ],
      "metadata": {
        "id": "iT1dnbI9P1wl"
      },
      "execution_count": 47,
      "outputs": []
    },
    {
      "cell_type": "markdown",
      "source": [
        "# Pegando dados de teste e normalizando utilizando Z-Score\n"
      ],
      "metadata": {
        "id": "V-qkr1JvW784"
      }
    },
    {
      "cell_type": "code",
      "source": [
        "X_treino = data_treino[:, :-1] # Recursos treino\n",
        "y_treino = data_treino[:, -1] # Rótulos treino\n",
        "\n",
        "# Calcule a média e o desvio padrão das características no conjunto de treino\n",
        "mean_treino = X_treino.mean(axis=0)\n",
        "std_treino = X_treino.std(axis=0)\n",
        "\n",
        "# Encontre as características com variância zero no conjunto de teste\n",
        "zero_variance_features = np.where(std_treino == 0)[0]\n",
        "\n",
        "# Remova essas características dos conjuntos de teste\n",
        "X_treino = np.delete(X_treino, zero_variance_features, axis=1)\n",
        "\n",
        "# Calcule a média e o desvio padrão novamente após remover as características com variância zero\n",
        "mean_treino = X_treino.mean(axis=0)\n",
        "std_treino = X_treino.std(axis=0)\n",
        "\n",
        "# Normalize o conjunto de treinamento\n",
        "X_train_normalized = (X_treino - mean_treino) / std_treino"
      ],
      "metadata": {
        "id": "gmsI8COFXAvP"
      },
      "execution_count": 48,
      "outputs": []
    },
    {
      "cell_type": "markdown",
      "source": [
        "### Importando bibliotecas para análise dos dados\n",
        "\n"
      ],
      "metadata": {
        "id": "b3a-Mo0xXR0V"
      }
    },
    {
      "cell_type": "code",
      "source": [
        "from sklearn.metrics import pairwise_distances\n",
        "from sklearn.metrics import accuracy_score"
      ],
      "metadata": {
        "id": "TYQvFRUhP2pY"
      },
      "execution_count": 49,
      "outputs": []
    },
    {
      "cell_type": "markdown",
      "source": [
        "# Classe KNN"
      ],
      "metadata": {
        "id": "OjhjoMOkXF1d"
      }
    },
    {
      "cell_type": "code",
      "source": [
        "class KNN(object):\n",
        "    def __init__(self, k):\n",
        "        self.k = k\n",
        "        self.pontos = None\n",
        "        self.rotulos = None\n",
        "\n",
        "    def fit(self, X, y):\n",
        "        self.pontos = X\n",
        "        self.rotulos = y\n",
        "\n",
        "    # Distância Euclidiana\n",
        "    @staticmethod\n",
        "    def dist(p,q):\n",
        "        return np.sqrt(np.sum((p-q)**2))\n",
        "\n",
        "    def predict(self, X):\n",
        "        predicoes = []\n",
        "        # para cada instância p de X\n",
        "        for p in X:\n",
        "            # calcular a distância de p para todos os pontos do conjunto de treinamento\n",
        "            #d = [self.dist(p,q) for q in self.pontos]\n",
        "            d = pairwise_distances(self.pontos, p.reshape((1,-1))).flatten()\n",
        "            # retornar os índices em ordem crescente de distância\n",
        "            ds = np.argsort(d)\n",
        "            # pegar apenas os índices dos k-vizinhos mais próximos\n",
        "            knn = ds[:self.k]\n",
        "            # pegar os rótulos dos k-vizinhos mais próximos\n",
        "            rotulos = self.rotulos[knn]\n",
        "            # contar os rótulos dos vizinhos mais próximos\n",
        "            rotulos, cont = np.unique(rotulos, return_counts=True)\n",
        "            # a predição do ponto p é o rótulo majoritário\n",
        "            pred = rotulos[np.argmax(cont)]\n",
        "            predicoes.append(pred)\n",
        "        return np.array(predicoes)"
      ],
      "metadata": {
        "id": "lnue9a6BQFF8"
      },
      "execution_count": 50,
      "outputs": []
    },
    {
      "cell_type": "markdown",
      "source": [
        "### Valores de K para análise dos resultados\n"
      ],
      "metadata": {
        "id": "5vsTIduvXJ2L"
      }
    },
    {
      "cell_type": "code",
      "source": [
        "k_values = [1,3,5,7,9,11,13,15,17,19]"
      ],
      "metadata": {
        "id": "Hla09FMgSwjX"
      },
      "execution_count": 51,
      "outputs": []
    },
    {
      "cell_type": "code",
      "source": [
        "for k in k_values:\n",
        "  knn = KNN(k=k)\n",
        "  knn.fit(X_train_normalized, y_treino)\n",
        "  pred = knn.predict(X_test_normalized)\n",
        "  accuracy = accuracy_score(y_teste, pred)\n",
        "  print(f\"K = {k}, Acurácia: {accuracy}\")"
      ],
      "metadata": {
        "colab": {
          "base_uri": "https://localhost:8080/"
        },
        "id": "oQuBR-vvQQnq",
        "outputId": "cb0b3de0-cc94-4169-8f1d-a950cf67e7d2"
      },
      "execution_count": 52,
      "outputs": [
        {
          "output_type": "stream",
          "name": "stdout",
          "text": [
            "K = 1, Acurácia: 0.91\n",
            "K = 3, Acurácia: 0.905\n",
            "K = 5, Acurácia: 0.917\n",
            "K = 7, Acurácia: 0.924\n",
            "K = 9, Acurácia: 0.928\n",
            "K = 11, Acurácia: 0.931\n",
            "K = 13, Acurácia: 0.931\n",
            "K = 15, Acurácia: 0.928\n",
            "K = 17, Acurácia: 0.926\n",
            "K = 19, Acurácia: 0.924\n"
          ]
        }
      ]
    },
    {
      "cell_type": "markdown",
      "source": [
        "## Separando os conjuntos aleatóriamente em 25%, 50% e 100% dos dados de treinamento."
      ],
      "metadata": {
        "id": "nS14oeyrZwlD"
      }
    },
    {
      "cell_type": "code",
      "source": [
        "from sklearn.model_selection import train_test_split"
      ],
      "metadata": {
        "id": "QhIuKeIKZ3is"
      },
      "execution_count": 53,
      "outputs": []
    },
    {
      "cell_type": "code",
      "source": [
        "# Dividir o conjunto de treinamento em diferentes proporções\n",
        "X_train_25, X_unused, y_train_25, y_unused = train_test_split(X_train_normalized, y_treino, test_size=0.75, random_state=42)\n",
        "X_train_50, X_unused, y_train_50, y_unused = train_test_split(X_train_normalized, y_treino, test_size=0.5, random_state=42)\n",
        "X_train_100 = X_train_normalized\n",
        "y_train_100 = y_treino\n",
        "\n",
        "# Treinar e avaliar o modelo KNN com diferentes divisões\n",
        "for k in k_values:\n",
        "  print(f\"K = {k}\")\n",
        "  for X_train, y_train, label in [(X_train_25, y_train_25, '25%'), (X_train_50, y_train_50, '50%'), (X_train_100, y_train_100, '100%')]:\n",
        "      knn = KNN(k=k)\n",
        "      knn.fit(X_train, y_train)\n",
        "      pred = knn.predict(X_test_normalized)\n",
        "      accuracy = accuracy_score(y_teste, pred)\n",
        "      print(f\"Divisão: {label}, Acurácia: {accuracy}\")"
      ],
      "metadata": {
        "colab": {
          "base_uri": "https://localhost:8080/"
        },
        "id": "fwk0-AW_Z6M2",
        "outputId": "b2208eea-8ade-4dbf-9f13-2d1c0cbbee90"
      },
      "execution_count": 58,
      "outputs": [
        {
          "output_type": "stream",
          "name": "stdout",
          "text": [
            "K = 1\n",
            "Divisão: 25%, Acurácia: 0.891\n",
            "Divisão: 50%, Acurácia: 0.897\n",
            "Divisão: 100%, Acurácia: 0.894\n",
            "K = 3\n",
            "Divisão: 25%, Acurácia: 0.907\n",
            "Divisão: 50%, Acurácia: 0.912\n",
            "Divisão: 100%, Acurácia: 0.904\n",
            "K = 5\n",
            "Divisão: 25%, Acurácia: 0.906\n",
            "Divisão: 50%, Acurácia: 0.927\n",
            "Divisão: 100%, Acurácia: 0.905\n",
            "K = 7\n",
            "Divisão: 25%, Acurácia: 0.894\n",
            "Divisão: 50%, Acurácia: 0.922\n",
            "Divisão: 100%, Acurácia: 0.93\n",
            "K = 9\n",
            "Divisão: 25%, Acurácia: 0.884\n",
            "Divisão: 50%, Acurácia: 0.92\n",
            "Divisão: 100%, Acurácia: 0.93\n",
            "K = 11\n",
            "Divisão: 25%, Acurácia: 0.876\n",
            "Divisão: 50%, Acurácia: 0.91\n",
            "Divisão: 100%, Acurácia: 0.927\n",
            "K = 13\n",
            "Divisão: 25%, Acurácia: 0.867\n",
            "Divisão: 50%, Acurácia: 0.912\n",
            "Divisão: 100%, Acurácia: 0.918\n",
            "K = 15\n",
            "Divisão: 25%, Acurácia: 0.853\n",
            "Divisão: 50%, Acurácia: 0.906\n",
            "Divisão: 100%, Acurácia: 0.921\n",
            "K = 17\n",
            "Divisão: 25%, Acurácia: 0.828\n",
            "Divisão: 50%, Acurácia: 0.905\n",
            "Divisão: 100%, Acurácia: 0.92\n",
            "K = 19\n",
            "Divisão: 25%, Acurácia: 0.82\n",
            "Divisão: 50%, Acurácia: 0.899\n",
            "Divisão: 100%, Acurácia: 0.918\n"
          ]
        }
      ]
    },
    {
      "cell_type": "code",
      "source": [],
      "metadata": {
        "id": "E0bW28YmZ9KW"
      },
      "execution_count": null,
      "outputs": []
    }
  ]
}